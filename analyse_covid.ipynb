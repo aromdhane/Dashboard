{
 "cells": [
  {
   "cell_type": "code",
   "execution_count": 1,
   "metadata": {},
   "outputs": [],
   "source": [
    "import pandas as pd"
   ]
  },
  {
   "cell_type": "code",
   "execution_count": 10,
   "metadata": {},
   "outputs": [],
   "source": [
    "filepath='/home/student11/Documents/Dashboard/donnees-hospitalieres-covid19-2021-02-18-19h03.csv'\n",
    "df_covid=pd.read_csv(filepath,sep=\";\")\n"
   ]
  },
  {
   "cell_type": "code",
   "execution_count": 11,
   "metadata": {},
   "outputs": [
    {
     "name": "stdout",
     "output_type": "stream",
     "text": [
      "<class 'pandas.core.frame.DataFrame'>\n",
      "RangeIndex: 102414 entries, 0 to 102413\n",
      "Data columns (total 7 columns):\n",
      " #   Column  Non-Null Count   Dtype \n",
      "---  ------  --------------   ----- \n",
      " 0   dep     102414 non-null  object\n",
      " 1   sexe    102414 non-null  int64 \n",
      " 2   jour    102414 non-null  object\n",
      " 3   hosp    102414 non-null  int64 \n",
      " 4   rea     102414 non-null  int64 \n",
      " 5   rad     102414 non-null  int64 \n",
      " 6   dc      102414 non-null  int64 \n",
      "dtypes: int64(5), object(2)\n",
      "memory usage: 5.5+ MB\n"
     ]
    }
   ],
   "source": [
    "df_covid.info()"
   ]
  },
  {
   "cell_type": "code",
   "execution_count": 15,
   "metadata": {},
   "outputs": [
    {
     "data": {
      "text/plain": [
       "array(['01', '02', '03', '04', '05', '06', '07', '08', '09', '10', '11',\n",
       "       '12', '13', '14', '15', '16', '17', '18', '19', '21', '22', '23',\n",
       "       '24', '25', '26', '27', '28', '29', '2A', '2B', '30', '31', '32',\n",
       "       '33', '34', '35', '36', '37', '38', '39', '40', '41', '42', '43',\n",
       "       '44', '45', '46', '47', '48', '49', '50', '51', '52', '53', '54',\n",
       "       '55', '56', '57', '58', '59', '60', '61', '62', '63', '64', '65',\n",
       "       '66', '67', '68', '69', '70', '71', '72', '73', '74', '75', '76',\n",
       "       '77', '78', '79', '80', '81', '82', '83', '84', '85', '86', '87',\n",
       "       '88', '89', '90', '91', '92', '93', '94', '95', '971', '972',\n",
       "       '973', '974', '976'], dtype=object)"
      ]
     },
     "execution_count": 15,
     "metadata": {},
     "output_type": "execute_result"
    }
   ],
   "source": [
    "df_covid.dep.unique()"
   ]
  },
  {
   "cell_type": "code",
   "execution_count": 31,
   "metadata": {},
   "outputs": [
    {
     "data": {
      "text/plain": [
       "jour        sexe\n",
       "2020-03-18  0        2972\n",
       "            1        1685\n",
       "            2        1248\n",
       "2020-03-19  0        4073\n",
       "            1        2256\n",
       "                    ...  \n",
       "2021-02-17  1       12862\n",
       "            2       12781\n",
       "2021-02-18  0       25717\n",
       "            1       12811\n",
       "            2       12630\n",
       "Name: hosp, Length: 1014, dtype: int64"
      ]
     },
     "execution_count": 31,
     "metadata": {},
     "output_type": "execute_result"
    }
   ],
   "source": [
    "df_covid.groupby(['jour','sexe'])['hosp'].sum()\n"
   ]
  },
  {
   "cell_type": "code",
   "execution_count": null,
   "metadata": {},
   "outputs": [],
   "source": []
  }
 ],
 "metadata": {
  "kernelspec": {
   "display_name": "Python 3",
   "language": "python",
   "name": "python3"
  },
  "language_info": {
   "codemirror_mode": {
    "name": "ipython",
    "version": 3
   },
   "file_extension": ".py",
   "mimetype": "text/x-python",
   "name": "python",
   "nbconvert_exporter": "python",
   "pygments_lexer": "ipython3",
   "version": "3.8.5"
  }
 },
 "nbformat": 4,
 "nbformat_minor": 4
}
